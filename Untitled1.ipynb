{
  "nbformat": 4,
  "nbformat_minor": 0,
  "metadata": {
    "colab": {
      "provenance": [],
      "authorship_tag": "ABX9TyOAc4txjQfdEIkIGyInNJAx",
      "include_colab_link": true
    },
    "kernelspec": {
      "name": "python3",
      "display_name": "Python 3"
    },
    "language_info": {
      "name": "python"
    }
  },
  "cells": [
    {
      "cell_type": "markdown",
      "metadata": {
        "id": "view-in-github",
        "colab_type": "text"
      },
      "source": [
        "<a href=\"https://colab.research.google.com/github/Srujan1613/Python-pandas-practice/blob/main/Untitled1.ipynb\" target=\"_parent\"><img src=\"https://colab.research.google.com/assets/colab-badge.svg\" alt=\"Open In Colab\"/></a>"
      ]
    },
    {
      "cell_type": "code",
      "execution_count": null,
      "metadata": {
        "colab": {
          "base_uri": "https://localhost:8080/"
        },
        "id": "o5wrrQ4f2HNW",
        "outputId": "23b1023b-4e01-40b2-8f65-43d6fb1decd4"
      },
      "outputs": [
        {
          "output_type": "stream",
          "name": "stdout",
          "text": [
            "hello \n"
          ]
        }
      ],
      "source": [
        "print(\"hello \")"
      ]
    },
    {
      "cell_type": "code",
      "source": [
        "import pandas as pd\n",
        "import numpy as np\n"
      ],
      "metadata": {
        "id": "wHtIYtqH6vzS"
      },
      "execution_count": null,
      "outputs": []
    },
    {
      "cell_type": "code",
      "source": [
        "df=pd.read_csv('/annual-enterprise-survey-2023-financial-year-provisional (4).csv')\n",
        "df\n",
        "df.head(10)\n",
        "df.tail(10)\n",
        "df.describe()\n",
        "df.shape\n",
        "df.info()\n"
      ],
      "metadata": {
        "id": "Y87dqchd7SRo",
        "colab": {
          "base_uri": "https://localhost:8080/"
        },
        "outputId": "7d3402f3-f197-40cc-c187-69b481e290c2"
      },
      "execution_count": 20,
      "outputs": [
        {
          "output_type": "stream",
          "name": "stdout",
          "text": [
            "<class 'pandas.core.frame.DataFrame'>\n",
            "RangeIndex: 50985 entries, 0 to 50984\n",
            "Data columns (total 10 columns):\n",
            " #   Column                       Non-Null Count  Dtype \n",
            "---  ------                       --------------  ----- \n",
            " 0   Year                         50985 non-null  int64 \n",
            " 1   Industry_aggregation_NZSIOC  50985 non-null  object\n",
            " 2   Industry_code_NZSIOC         50985 non-null  object\n",
            " 3   Industry_name_NZSIOC         50985 non-null  object\n",
            " 4   Units                        50985 non-null  object\n",
            " 5   Variable_code                50985 non-null  object\n",
            " 6   Variable_name                50985 non-null  object\n",
            " 7   Variable_category            50985 non-null  object\n",
            " 8   Value                        50985 non-null  object\n",
            " 9   Industry_code_ANZSIC06       50985 non-null  object\n",
            "dtypes: int64(1), object(9)\n",
            "memory usage: 3.9+ MB\n"
          ]
        }
      ]
    }
  ]
}